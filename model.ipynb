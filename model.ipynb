{
 "cells": [
  {
   "cell_type": "code",
   "execution_count": 21,
   "metadata": {},
   "outputs": [],
   "source": [
    "import numpy as np\n",
    "import torchvision.models.segmentation\n",
    "import torch\n",
    "import torchvision.transforms as tf\n",
    "from PIL import Image\n",
    "import scipy.io\n",
    "\n",
    "Learning_Rate=1e-5\n",
    "width=891\n",
    "height=645\n",
    "batchSize=1"
   ]
  },
  {
   "cell_type": "code",
   "execution_count": 22,
   "metadata": {},
   "outputs": [
    {
     "name": "stdout",
     "output_type": "stream",
     "text": [
      "PNG\n",
      "(690, 526)\n",
      "RGB\n",
      "<class 'numpy.ndarray'>\n",
      "(526, 690, 3)\n",
      "[[[ 99 204 111]\n",
      "  [ 99 204 111]\n",
      "  [ 99 204 111]\n",
      "  ...\n",
      "  [171 198  56]\n",
      "  [171 198  56]\n",
      "  [171 198  56]]\n",
      "\n",
      " [[ 99 204 111]\n",
      "  [ 99 204 111]\n",
      "  [ 99 204 111]\n",
      "  ...\n",
      "  [171 198  56]\n",
      "  [171 198  56]\n",
      "  [171 198  56]]\n",
      "\n",
      " [[ 99 204 111]\n",
      "  [ 99 204 111]\n",
      "  [ 99 204 111]\n",
      "  ...\n",
      "  [171 198  56]\n",
      "  [171 198  56]\n",
      "  [171 198  56]]\n",
      "\n",
      " ...\n",
      "\n",
      " [[ 39 150 235]\n",
      "  [ 39 150 235]\n",
      "  [ 39 150 235]\n",
      "  ...\n",
      "  [ 24 191 181]\n",
      "  [ 24 191 181]\n",
      "  [ 24 191 181]]\n",
      "\n",
      " [[ 39 150 235]\n",
      "  [ 39 150 235]\n",
      "  [ 39 150 235]\n",
      "  ...\n",
      "  [ 24 191 181]\n",
      "  [ 24 191 181]\n",
      "  [ 24 191 181]]\n",
      "\n",
      " [[ 39 150 235]\n",
      "  [ 39 150 235]\n",
      "  [ 39 150 235]\n",
      "  ...\n",
      "  [ 24 191 181]\n",
      "  [ 24 191 181]\n",
      "  [ 24 191 181]]]\n"
     ]
    }
   ],
   "source": [
    "image = Image.open('trainingdataimages/gentrain_001.png')\n",
    "data = np.asarray(image)\n",
    "print(image.format)\n",
    "print(image.size)\n",
    "print(image.mode)\n",
    "# show the image\n",
    "# image.show()\n",
    "print(type(data))\n",
    "print(data.shape)\n",
    "print(data)"
   ]
  },
  {
   "cell_type": "code",
   "execution_count": 23,
   "metadata": {},
   "outputs": [
    {
     "data": {
      "text/plain": [
       "(tensor([[[0.3882, 0.3882, 0.3882,  ..., 0.6706, 0.6706, 0.6706],\n",
       "          [0.3882, 0.3882, 0.3882,  ..., 0.6706, 0.6706, 0.6706],\n",
       "          [0.3882, 0.3882, 0.3882,  ..., 0.6706, 0.6706, 0.6706],\n",
       "          ...,\n",
       "          [0.1529, 0.1529, 0.1529,  ..., 0.0941, 0.0941, 0.0941],\n",
       "          [0.1529, 0.1529, 0.1529,  ..., 0.0941, 0.0941, 0.0941],\n",
       "          [0.1529, 0.1529, 0.1529,  ..., 0.0941, 0.0941, 0.0941]],\n",
       " \n",
       "         [[0.8000, 0.8000, 0.8000,  ..., 0.7765, 0.7765, 0.7765],\n",
       "          [0.8000, 0.8000, 0.8000,  ..., 0.7765, 0.7765, 0.7765],\n",
       "          [0.8000, 0.8000, 0.8000,  ..., 0.7765, 0.7765, 0.7765],\n",
       "          ...,\n",
       "          [0.5882, 0.5882, 0.5882,  ..., 0.7490, 0.7490, 0.7490],\n",
       "          [0.5882, 0.5882, 0.5882,  ..., 0.7490, 0.7490, 0.7490],\n",
       "          [0.5882, 0.5882, 0.5882,  ..., 0.7490, 0.7490, 0.7490]],\n",
       " \n",
       "         [[0.4353, 0.4353, 0.4353,  ..., 0.2196, 0.2196, 0.2196],\n",
       "          [0.4353, 0.4353, 0.4353,  ..., 0.2196, 0.2196, 0.2196],\n",
       "          [0.4353, 0.4353, 0.4353,  ..., 0.2196, 0.2196, 0.2196],\n",
       "          ...,\n",
       "          [0.9216, 0.9216, 0.9216,  ..., 0.7098, 0.7098, 0.7098],\n",
       "          [0.9216, 0.9216, 0.9216,  ..., 0.7098, 0.7098, 0.7098],\n",
       "          [0.9216, 0.9216, 0.9216,  ..., 0.7098, 0.7098, 0.7098]]]),\n",
       " array([1.6e+06, 2.5e+00, 2.0e+04]))"
      ]
     },
     "execution_count": 23,
     "metadata": {},
     "output_type": "execute_result"
    }
   ],
   "source": [
    "def ReadImage():\n",
    "    fname = 'trainingdataimages/gentrain_001.png'\n",
    "    file = fname.split('/')[1]\n",
    "    matfile = 'trainingdatavalues/' + file[:len(file) - 4] + '.mat'\n",
    "    mat = scipy.io.loadmat(matfile)\n",
    "    image = Image.open('trainingdataimages/gentrain_001.png')\n",
    "    data = np.asarray(image)\n",
    "    transformImg=tf.Compose([tf.ToPILImage(),tf.Resize((height,width)),tf.ToTensor()])\n",
    "\n",
    "    data = transformImg(data)\n",
    "    return data, mat['th0'][0]\n",
    "\n",
    "ReadImage()"
   ]
  },
  {
   "cell_type": "code",
   "execution_count": 24,
   "metadata": {},
   "outputs": [
    {
     "data": {
      "text/plain": [
       "(tensor([[[[0.3882, 0.3882, 0.3882,  ..., 0.6706, 0.6706, 0.6706],\n",
       "           [0.3882, 0.3882, 0.3882,  ..., 0.6706, 0.6706, 0.6706],\n",
       "           [0.3882, 0.3882, 0.3882,  ..., 0.6706, 0.6706, 0.6706],\n",
       "           ...,\n",
       "           [0.1529, 0.1529, 0.1529,  ..., 0.0941, 0.0941, 0.0941],\n",
       "           [0.1529, 0.1529, 0.1529,  ..., 0.0941, 0.0941, 0.0941],\n",
       "           [0.1529, 0.1529, 0.1529,  ..., 0.0941, 0.0941, 0.0941]],\n",
       " \n",
       "          [[0.8000, 0.8000, 0.8000,  ..., 0.7765, 0.7765, 0.7765],\n",
       "           [0.8000, 0.8000, 0.8000,  ..., 0.7765, 0.7765, 0.7765],\n",
       "           [0.8000, 0.8000, 0.8000,  ..., 0.7765, 0.7765, 0.7765],\n",
       "           ...,\n",
       "           [0.5882, 0.5882, 0.5882,  ..., 0.7490, 0.7490, 0.7490],\n",
       "           [0.5882, 0.5882, 0.5882,  ..., 0.7490, 0.7490, 0.7490],\n",
       "           [0.5882, 0.5882, 0.5882,  ..., 0.7490, 0.7490, 0.7490]],\n",
       " \n",
       "          [[0.4353, 0.4353, 0.4353,  ..., 0.2196, 0.2196, 0.2196],\n",
       "           [0.4353, 0.4353, 0.4353,  ..., 0.2196, 0.2196, 0.2196],\n",
       "           [0.4353, 0.4353, 0.4353,  ..., 0.2196, 0.2196, 0.2196],\n",
       "           ...,\n",
       "           [0.9216, 0.9216, 0.9216,  ..., 0.7098, 0.7098, 0.7098],\n",
       "           [0.9216, 0.9216, 0.9216,  ..., 0.7098, 0.7098, 0.7098],\n",
       "           [0.9216, 0.9216, 0.9216,  ..., 0.7098, 0.7098, 0.7098]]]]),\n",
       " tensor([[1.6000e+06, 2.5000e+00, 2.0000e+04]]))"
      ]
     },
     "execution_count": 24,
     "metadata": {},
     "output_type": "execute_result"
    }
   ],
   "source": [
    "def LoadBatch(): # Load batch of images\n",
    "    images = torch.zeros([batchSize,3,height,width])\n",
    "    theta0 = torch.zeros([batchSize,3])\n",
    "    for i in range(batchSize):\n",
    "        x,y = ReadImage()\n",
    "        images[i],theta0[i]=x, torch.from_numpy(y)\n",
    "    return images,theta0\n",
    "\n",
    "LoadBatch()"
   ]
  }
 ],
 "metadata": {
  "kernelspec": {
   "display_name": "Python 3",
   "language": "python",
   "name": "python3"
  },
  "language_info": {
   "codemirror_mode": {
    "name": "ipython",
    "version": 3
   },
   "file_extension": ".py",
   "mimetype": "text/x-python",
   "name": "python",
   "nbconvert_exporter": "python",
   "pygments_lexer": "ipython3",
   "version": "3.10.5"
  },
  "orig_nbformat": 4
 },
 "nbformat": 4,
 "nbformat_minor": 2
}
